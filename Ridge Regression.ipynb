{
 "cells": [
  {
   "cell_type": "markdown",
   "metadata": {},
   "source": [
    "The first way (least square)\n",
    "\n",
    "$$\n",
    "{w_{RR}} = \\arg \\mathop {\\min }\\limits_w {\\left\\| {y - Xw} \\right\\|^2} + \\lambda g\\left( w \\right)\n",
    "$$\n",
    "\n",
    "$${w_{RR}} = \\arg \\mathop {\\min }\\limits_w {\\left\\| {y - Xw} \\right\\|^2} + \\lambda {\\left\\| w \\right\\|^2}$$\n",
    "\n",
    "We have:\n",
    "\n",
    "$L = {\\left\\| {y - Xw} \\right\\|^2} + \\lambda {\\left\\| w \\right\\|^2}$\n",
    "\n",
    "$ {\\nabla _w}L = {\\nabla _w}\\left( {{{\\left\\| {y - Xw} \\right\\|}^2} + \\lambda {{\\left\\| w \\right\\|}^2}} \\right)$\n",
    "\n",
    "$ {\\nabla _w}L = {\\nabla _w}\\left( {{{\\left( {y - Xw} \\right)}^T}\\left( {y - Xw} \\right) + \\lambda {w^T}w} \\right)$\n",
    "\n",
    "\n",
    "$ {\\nabla _w}L = {\\nabla _w}\\left( {{y^T}y - {y^T}Xw - {w^T}{X^T}y + {w^T}{X^T}Xw + \\lambda {w^T}w} \\right)$\n",
    "\n",
    "${\\nabla _w}L = {\\nabla _w}\\left( { - {w^T}{X^T}y - {w^T}{X^T}y + {w^T}{X^T}Xw + \\lambda {w^T}w} \\right)$\n",
    "\n",
    "$\\Rightarrow  - 2{X^T}y + 2{X^T}Xw + 2\\lambda w = 0$\n",
    "\n",
    "$\\Leftrightarrow \\left( {2{X^T}X + 2\\lambda I} \\right)w = 2{X^T}y$\n",
    "\n",
    "$\\Leftrightarrow w = {\\left( {{X^T}X + \\lambda I} \\right)^{ - 1}}{X^T}y$\n",
    "\n"
   ]
  },
  {
   "cell_type": "code",
   "execution_count": null,
   "metadata": {},
   "outputs": [],
   "source": []
  }
 ],
 "metadata": {
  "kernelspec": {
   "display_name": "Python 3",
   "language": "python",
   "name": "python3"
  },
  "language_info": {
   "codemirror_mode": {
    "name": "ipython",
    "version": 3
   },
   "file_extension": ".py",
   "mimetype": "text/x-python",
   "name": "python",
   "nbconvert_exporter": "python",
   "pygments_lexer": "ipython3",
   "version": "3.8.2"
  }
 },
 "nbformat": 4,
 "nbformat_minor": 4
}
