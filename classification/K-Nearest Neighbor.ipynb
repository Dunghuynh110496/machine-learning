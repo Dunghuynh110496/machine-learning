{
 "cells": [
  {
   "cell_type": "markdown",
   "metadata": {},
   "source": [
    "## Model definition:\n",
    "- Get k nearest neighbors that are closest to the input from the training data by using the Eulidean distance formula:\n",
    "$${\\left\\| {u - v} \\right\\|_2} = {\\left( {\\sum\\limits_{i = 1}^d {{{\\left( {{u_i} - {v_i}} \\right)}^2}} } \\right)^{\\frac{1}{2}}}$$\n",
    "- After that, the label that has the highest frequency in k nearest neighbor is the output."
   ]
  },
  {
   "cell_type": "markdown",
   "metadata": {},
   "source": [
    "## How to fit it:\n",
    "\n"
   ]
  },
  {
   "cell_type": "markdown",
   "metadata": {},
   "source": [
    "## How to use it:\n",
    "1. Separate the train data into 2 parts:\n",
    "    - X: the matrix of all features\n",
    "    - y: the labels\n",
    "2. Use the Euclidean distance formula to calculate the distance between the input and all points of X\n",
    "3. Find k points that are nearest to the input and append its label to a list\n",
    "4. Return the label has the largest frequency."
   ]
  },
  {
   "cell_type": "code",
   "execution_count": 1,
   "metadata": {},
   "outputs": [],
   "source": [
    "from math import sqrt\n",
    "import numpy as np\n",
    "import collections\n",
    "\n",
    "class NearestNeighbor:\n",
    "\tdef __init__(self, k):\n",
    "\t\tself.k = k\n",
    "\n",
    "\tdef fit(self,X, y):\n",
    "\t\tself.X = X\n",
    "\t\tself.y = y\n",
    "\n",
    "\tdef predict(self, x):\n",
    "\t\t# find the k nearest points to x\n",
    "\t\tdistances = np.sum((x - self.X)**2, axis= 1)\n",
    "\t\tdistances = [(distances[i],self.y[i]) for i in range(len(self.y))]\n",
    "\t\tdistances.sort()\n",
    "\t\tneighbors = {}\n",
    "\t\tfor i in range(self.k):\n",
    "\t\t\tif distances[i][1] not in neighbors:\n",
    "\t\t\t\tneighbors[distances[i][1]] = 0\n",
    "\t\t\tneighbors[distances[i][1]] += 1\n",
    "\n",
    "\t\t# return the majority-vote of  y1,...,yk\n",
    "\t\ta = - float('inf')\n",
    "\t\tfor label in neighbors:\n",
    "\t\t\tif neighbors[label] > a:\n",
    "\t\t\t\ta = neighbors[label]\n",
    "\t\t\t\tprediction = label\n",
    "\t\treturn prediction"
   ]
  },
  {
   "cell_type": "code",
   "execution_count": 2,
   "metadata": {},
   "outputs": [],
   "source": [
    "import pandas as pd\n",
    "import numpy as np\n",
    "\n",
    "df_train = pd.read_csv(\"../data/digit-recognizer/data/train.csv\")\n",
    "df_test = pd.read_csv(\"../data/digit-recognizer/data/test.csv\")\n",
    "train = df_train.to_numpy()\n",
    "X = train[:,1:]\n",
    "y = train[:,0]\n",
    "classifier = NearestNeighbor(15)\n",
    "classifier.fit(X,y)\n",
    "\n",
    "f = open(\"../data/digit-recognizer/outputs/submission_knn.csv\", \"w\")\n",
    "f.write(\"ImageId,Label\\n\" )\n",
    "for i in range(len(df_test)):\n",
    "    row = df_test.loc[i]\n",
    "    x = row.to_numpy()\n",
    "    a = classifier.predict(x)\n",
    "    f.write(str(i+1) + \",\" + str(a) +\"\\n\")\n",
    "f.close()"
   ]
  },
  {
   "cell_type": "markdown",
   "metadata": {},
   "source": [
    "## Use scikit learn"
   ]
  },
  {
   "cell_type": "code",
   "execution_count": 1,
   "metadata": {
    "scrolled": true
   },
   "outputs": [],
   "source": [
    "#Import functions\n",
    "import pandas as pd\n",
    "import numpy as np\n",
    "from sklearn.neighbors import KNeighborsClassifier\n",
    "from sklearn.preprocessing import MinMaxScaler"
   ]
  },
  {
   "cell_type": "code",
   "execution_count": 4,
   "metadata": {},
   "outputs": [],
   "source": [
    "#Import and tranform the data to fit effectively\n",
    "df_train = pd.read_csv(\"../data/digit-recognizer/data/train.csv\")\n",
    "df_test = pd.read_csv(\"../data/digit-recognizer/data/test.csv\")\n",
    "train = df_train.to_numpy()\n",
    "test = df_test.to_numpy()\n",
    "scaler = MinMaxScaler()\n",
    "X = train[:,1:]\n",
    "y = train[:,0]\n",
    "scaler.fit(X)\n",
    "X_transform = scaler.transform(X)\n",
    "test_transform = scaler.transform(test)"
   ]
  },
  {
   "cell_type": "code",
   "execution_count": 6,
   "metadata": {},
   "outputs": [],
   "source": [
    "#Fit training data\n",
    "knn = KNeighborsClassifier(n_neighbors = 5)\n",
    "knn.fit(X_transform, y)\n",
    "\n",
    "#Predict testing data\n",
    "predictions = knn.predict(test_transform)\n",
    "f = open(\"../data/digit-recognizer/outputs/submission_knn_sklearn.csv\", \"w\")\n",
    "f.write(\"ImageId,Label\\n\" )\n",
    "for i in range(len(predictions)):\n",
    "    f.write(str(i+1) + \",\" + str(predictions[i]) +\"\\n\")\n",
    "f.close()"
   ]
  }
 ],
 "metadata": {
  "kernelspec": {
   "display_name": "Python 3",
   "language": "python",
   "name": "python3"
  },
  "language_info": {
   "codemirror_mode": {
    "name": "ipython",
    "version": 3
   },
   "file_extension": ".py",
   "mimetype": "text/x-python",
   "name": "python",
   "nbconvert_exporter": "python",
   "pygments_lexer": "ipython3",
   "version": "3.7.6"
  }
 },
 "nbformat": 4,
 "nbformat_minor": 4
}
