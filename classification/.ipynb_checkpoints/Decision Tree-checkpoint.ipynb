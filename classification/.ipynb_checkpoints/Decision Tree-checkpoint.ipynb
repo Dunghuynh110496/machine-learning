{
 "cells": [
  {
   "cell_type": "markdown",
   "metadata": {},
   "source": [
    "# Decision Tree\n",
    "## Model\n",
    "A decision tree maps input $x \\in {R^d}$ to output y using binary decision rules:\n",
    " - Each node in the tree has a splitting rule:\n",
    "\n",
    "$$h\\left( x \\right) = 1\\left\\{ {{x_j} > t} \\right\\}$$\n",
    "\n",
    "for some dimension $j$ of $x$ and $t \\in R$\n",
    "\n",
    " - Each leaf node is associated with an output value (outputs can repeat)\n",
    "\n",
    "Using these transition rules, a path to a leaf node gives the prediction.\n",
    "\n",
    "## How to fit it\n",
    "\n",
    "The step to build the basic Decision Tree:\n",
    "\n",
    "\n",
    "K-class problem: For all $ x \\in R_m$, let $p_k$ be empirical fraction labeled $k$.\n",
    "\n",
    "Measures of quality of Rm include:\n",
    "\n",
    "1. Classification error: $1 - {\\max _k}{p_k}$.\n",
    "2. Gini index: $1 - \\sum\\limits_k {{p_k}^2} $.\n",
    "3. Entropy: $ - \\sum\\limits_k {{p_k}\\ln {p_k}} $\n",
    "\n",
    "\n",
    "## How to use it"
   ]
  },
  {
   "cell_type": "markdown",
   "metadata": {},
   "source": [
    "## Model definition:\n",
    "A decision tree maps input $x \\in {R^d}$ to output y using binary decision rules:\n",
    " - Each node in the tree has a splitting rule:\n",
    "\n",
    "$$h\\left( x \\right) = 1\\left\\{ {{x_j} > t} \\right\\}$$\n",
    "\n",
    "for some dimension $j$ of $x$ and $t \\in R$\n",
    "\n",
    " - Each leaf node is associated with an output value (outputs can repeat)\n",
    "\n",
    "Using these transition rules, a path to a leaf node gives the prediction.\n"
   ]
  },
  {
   "cell_type": "markdown",
   "metadata": {},
   "source": [
    "## How to fit it:\n",
    "### Creating the decision tree:\n",
    "    - Step 1: We will start the process with a single leaf node that contains all data.\n",
    "\n",
    "    - Step 2: Loop through the following steps:\n",
    " \n",
    "        - Calculate the Gini indexes (or Classification error or Entropy) of 100 random sample (we use all the training data, it can take a long time).\n",
    "        - Choose the smallest Gini index.\n",
    "        - Find the label that has the highest frequency in 100 random sample.\n",
    "        - Apply the label as the value of a leaf.\n",
    "        - Filter the data: one side is the data that is lower than splitng value as a region 1 and vice versa region 2.\n",
    "    - Step 3: Stop the loop by setting the condition value. If the gini index is less than the condition value, the loop will stop.\n",
    "\n",
    "Classification error: $1 - {\\max _k}{p_k}$.\n",
    "\n",
    "Gini index: $1 - \\sum\\limits_k {{p_k}^2} $.\n",
    "\n",
    "Entropy: $ - \\sum\\limits_k {{p_k}\\ln {p_k}} $.\n"
   ]
  },
  {
   "cell_type": "markdown",
   "metadata": {},
   "source": [
    "## How to use it:\n",
    "\n",
    "We start at the root node. If the feature of the input is less than the split value, the next node is the left node and vice versa. When the left node and right node are none. Return the node's value as the prediction.\n",
    "\n"
   ]
  },
  {
   "cell_type": "code",
   "execution_count": 28,
   "metadata": {},
   "outputs": [],
   "source": [
    "class Node:\n",
    "\tdef __init__(self, split_feature,split_value, left_child, right_child,label):\n",
    "\t\tself.split_feature = split_feature\n",
    "\t\tself.split_value = split_value\n",
    "\t\tself.left_child = left_child\n",
    "\t\tself.right_child = right_child\n",
    "\t\tself.label = label\n",
    "\n",
    "class DecisionTree:\n",
    "\tdef __init__(self):\n",
    "\t\tpass\n",
    "\n",
    "\tdef fit(self, X, y):\n",
    "\t\tself.tree = self.build_tree(X, y)\n",
    "        \n",
    "\tdef build_tree(self, X, y):\n",
    "\t\tgini_label = self.compute_gini(y)\n",
    "\t\tif gini_label < 0.2:\n",
    "\t\t\treturn None\n",
    "\t\tbest_gini, best_split, best_feature = float(\"inf\"), 0.0, 0.0\n",
    "\t\tfor i in np.random.randint(0, 784, size=100):\n",
    "\t\t\tuniques = np.unique(X[:,i])\n",
    "\t\t\tfor unique in uniques:\n",
    "\t\t\t\tregion1 = y[X[:,i] < unique]\n",
    "\t\t\t\tregion2 = y[X[:,i] >= unique]\n",
    "\t\t\t\tgini1 = self.compute_gini(region1)\n",
    "\t\t\t\tgini2 = self.compute_gini(region2)\n",
    "\t\t\t\tgini = gini1*(len(region1)/len(X)) +  gini1*(len(region2)/len(X))\n",
    "\t\t\t\tif gini < best_gini:\n",
    "\t\t\t\t\tbest_gini, best_split, best_feature = gini, unique, i\n",
    "\t\tlabel = np.bincount(y).argmax()\n",
    "\t\tleft_node = self.build_tree(X[X[:,best_feature] < best_split], y[X[:,best_feature] < best_split])\n",
    "\t\tright_node = self.build_tree(X[X[:,best_feature] >= best_split], y[X[:,best_feature] >= best_split])\n",
    "\t\treturn Node(best_feature, best_split, left_node, right_node, label) \n",
    "\n",
    "\tdef compute_gini(self,y):\n",
    "\t\tdic = {}\n",
    "\t\tfor i in y:\n",
    "\t\t\tif i not in  dic:\n",
    "\t\t\t\tdic[i] = 0\n",
    "\t\t\tdic[i] += 1\n",
    "\t\tp = 0\n",
    "\t\tfor i in dic:\n",
    "\t\t\tp += (dic[i]/len(y))**2\n",
    "\t\tgini = 1 - p\n",
    "\t\treturn gini \n",
    "\n",
    "\tdef predict(self, test):\n",
    "\t\tnode = self.tree\n",
    "\t\twhile node.left_child or node.left_child:\n",
    "\t\t\tif test[node.split_feature] < node.split_value:\n",
    "\t\t\t\tnode = node.left_child\n",
    "\t\t\telse:\n",
    "\t\t\t\tnode = node.right_child\n",
    "\t\treturn node.label"
   ]
  },
  {
   "cell_type": "code",
   "execution_count": 27,
   "metadata": {
    "scrolled": true
   },
   "outputs": [
    {
     "ename": "KeyboardInterrupt",
     "evalue": "",
     "output_type": "error",
     "traceback": [
      "\u001b[0;31m---------------------------------------------------------------------------\u001b[0m",
      "\u001b[0;31mKeyboardInterrupt\u001b[0m                         Traceback (most recent call last)",
      "\u001b[0;32m<ipython-input-27-2c5782c4b848>\u001b[0m in \u001b[0;36m<module>\u001b[0;34m\u001b[0m\n\u001b[1;32m      8\u001b[0m \u001b[0my\u001b[0m \u001b[0;34m=\u001b[0m \u001b[0mtrain\u001b[0m\u001b[0;34m[\u001b[0m\u001b[0;34m:\u001b[0m\u001b[0;34m,\u001b[0m\u001b[0;36m0\u001b[0m\u001b[0;34m]\u001b[0m\u001b[0;34m\u001b[0m\u001b[0;34m\u001b[0m\u001b[0m\n\u001b[1;32m      9\u001b[0m \u001b[0mclassifier\u001b[0m \u001b[0;34m=\u001b[0m \u001b[0mDecisionTree\u001b[0m\u001b[0;34m(\u001b[0m\u001b[0;34m)\u001b[0m\u001b[0;34m\u001b[0m\u001b[0;34m\u001b[0m\u001b[0m\n\u001b[0;32m---> 10\u001b[0;31m \u001b[0mclassifier\u001b[0m\u001b[0;34m.\u001b[0m\u001b[0mfit\u001b[0m\u001b[0;34m(\u001b[0m\u001b[0mX\u001b[0m\u001b[0;34m,\u001b[0m \u001b[0my\u001b[0m\u001b[0;34m)\u001b[0m\u001b[0;34m\u001b[0m\u001b[0;34m\u001b[0m\u001b[0m\n\u001b[0m\u001b[1;32m     11\u001b[0m \u001b[0;34m\u001b[0m\u001b[0m\n\u001b[1;32m     12\u001b[0m \u001b[0mf\u001b[0m \u001b[0;34m=\u001b[0m \u001b[0mopen\u001b[0m\u001b[0;34m(\u001b[0m\u001b[0;34m\"outputs/submission_dt.csv\"\u001b[0m\u001b[0;34m,\u001b[0m \u001b[0;34m\"w\"\u001b[0m\u001b[0;34m)\u001b[0m\u001b[0;34m\u001b[0m\u001b[0;34m\u001b[0m\u001b[0m\n",
      "\u001b[0;32m<ipython-input-26-ad236636e9a5>\u001b[0m in \u001b[0;36mfit\u001b[0;34m(self, X, y)\u001b[0m\n\u001b[1;32m     12\u001b[0m \u001b[0;34m\u001b[0m\u001b[0m\n\u001b[1;32m     13\u001b[0m         \u001b[0;32mdef\u001b[0m \u001b[0mfit\u001b[0m\u001b[0;34m(\u001b[0m\u001b[0mself\u001b[0m\u001b[0;34m,\u001b[0m \u001b[0mX\u001b[0m\u001b[0;34m,\u001b[0m \u001b[0my\u001b[0m\u001b[0;34m)\u001b[0m\u001b[0;34m:\u001b[0m\u001b[0;34m\u001b[0m\u001b[0;34m\u001b[0m\u001b[0m\n\u001b[0;32m---> 14\u001b[0;31m                 \u001b[0mself\u001b[0m\u001b[0;34m.\u001b[0m\u001b[0mtree\u001b[0m \u001b[0;34m=\u001b[0m \u001b[0mself\u001b[0m\u001b[0;34m.\u001b[0m\u001b[0mbuild_tree\u001b[0m\u001b[0;34m(\u001b[0m\u001b[0mX\u001b[0m\u001b[0;34m,\u001b[0m \u001b[0my\u001b[0m\u001b[0;34m)\u001b[0m\u001b[0;34m\u001b[0m\u001b[0;34m\u001b[0m\u001b[0m\n\u001b[0m\u001b[1;32m     15\u001b[0m \u001b[0;34m\u001b[0m\u001b[0m\n\u001b[1;32m     16\u001b[0m         \u001b[0;32mdef\u001b[0m \u001b[0mbuild_tree\u001b[0m\u001b[0;34m(\u001b[0m\u001b[0mself\u001b[0m\u001b[0;34m,\u001b[0m \u001b[0mX\u001b[0m\u001b[0;34m,\u001b[0m \u001b[0my\u001b[0m\u001b[0;34m)\u001b[0m\u001b[0;34m:\u001b[0m\u001b[0;34m\u001b[0m\u001b[0;34m\u001b[0m\u001b[0m\n",
      "\u001b[0;32m<ipython-input-26-ad236636e9a5>\u001b[0m in \u001b[0;36mbuild_tree\u001b[0;34m(self, X, y)\u001b[0m\n\u001b[1;32m     24\u001b[0m                                 \u001b[0mregion1\u001b[0m \u001b[0;34m=\u001b[0m \u001b[0my\u001b[0m\u001b[0;34m[\u001b[0m\u001b[0mX\u001b[0m\u001b[0;34m[\u001b[0m\u001b[0;34m:\u001b[0m\u001b[0;34m,\u001b[0m\u001b[0mi\u001b[0m\u001b[0;34m]\u001b[0m \u001b[0;34m<\u001b[0m \u001b[0munique\u001b[0m\u001b[0;34m]\u001b[0m\u001b[0;34m\u001b[0m\u001b[0;34m\u001b[0m\u001b[0m\n\u001b[1;32m     25\u001b[0m                                 \u001b[0mregion2\u001b[0m \u001b[0;34m=\u001b[0m \u001b[0my\u001b[0m\u001b[0;34m[\u001b[0m\u001b[0mX\u001b[0m\u001b[0;34m[\u001b[0m\u001b[0;34m:\u001b[0m\u001b[0;34m,\u001b[0m\u001b[0mi\u001b[0m\u001b[0;34m]\u001b[0m \u001b[0;34m>=\u001b[0m \u001b[0munique\u001b[0m\u001b[0;34m]\u001b[0m\u001b[0;34m\u001b[0m\u001b[0;34m\u001b[0m\u001b[0m\n\u001b[0;32m---> 26\u001b[0;31m                                 \u001b[0mgini1\u001b[0m \u001b[0;34m=\u001b[0m \u001b[0mself\u001b[0m\u001b[0;34m.\u001b[0m\u001b[0mcompute_gini\u001b[0m\u001b[0;34m(\u001b[0m\u001b[0mregion1\u001b[0m\u001b[0;34m)\u001b[0m\u001b[0;34m\u001b[0m\u001b[0;34m\u001b[0m\u001b[0m\n\u001b[0m\u001b[1;32m     27\u001b[0m                                 \u001b[0mgini2\u001b[0m \u001b[0;34m=\u001b[0m \u001b[0mself\u001b[0m\u001b[0;34m.\u001b[0m\u001b[0mcompute_gini\u001b[0m\u001b[0;34m(\u001b[0m\u001b[0mregion2\u001b[0m\u001b[0;34m)\u001b[0m\u001b[0;34m\u001b[0m\u001b[0;34m\u001b[0m\u001b[0m\n\u001b[1;32m     28\u001b[0m                                 \u001b[0mgini\u001b[0m \u001b[0;34m=\u001b[0m \u001b[0mgini1\u001b[0m\u001b[0;34m*\u001b[0m\u001b[0;34m(\u001b[0m\u001b[0mlen\u001b[0m\u001b[0;34m(\u001b[0m\u001b[0mregion1\u001b[0m\u001b[0;34m)\u001b[0m\u001b[0;34m/\u001b[0m\u001b[0mlen\u001b[0m\u001b[0;34m(\u001b[0m\u001b[0mX\u001b[0m\u001b[0;34m)\u001b[0m\u001b[0;34m)\u001b[0m \u001b[0;34m+\u001b[0m  \u001b[0mgini1\u001b[0m\u001b[0;34m*\u001b[0m\u001b[0;34m(\u001b[0m\u001b[0mlen\u001b[0m\u001b[0;34m(\u001b[0m\u001b[0mregion2\u001b[0m\u001b[0;34m)\u001b[0m\u001b[0;34m/\u001b[0m\u001b[0mlen\u001b[0m\u001b[0;34m(\u001b[0m\u001b[0mX\u001b[0m\u001b[0;34m)\u001b[0m\u001b[0;34m)\u001b[0m\u001b[0;34m\u001b[0m\u001b[0;34m\u001b[0m\u001b[0m\n",
      "\u001b[0;32m<ipython-input-26-ad236636e9a5>\u001b[0m in \u001b[0;36mcompute_gini\u001b[0;34m(self, y)\u001b[0m\n\u001b[1;32m     36\u001b[0m         \u001b[0;32mdef\u001b[0m \u001b[0mcompute_gini\u001b[0m\u001b[0;34m(\u001b[0m\u001b[0mself\u001b[0m\u001b[0;34m,\u001b[0m\u001b[0my\u001b[0m\u001b[0;34m)\u001b[0m\u001b[0;34m:\u001b[0m\u001b[0;34m\u001b[0m\u001b[0;34m\u001b[0m\u001b[0m\n\u001b[1;32m     37\u001b[0m                 \u001b[0mdic\u001b[0m \u001b[0;34m=\u001b[0m \u001b[0;34m{\u001b[0m\u001b[0;34m}\u001b[0m\u001b[0;34m\u001b[0m\u001b[0;34m\u001b[0m\u001b[0m\n\u001b[0;32m---> 38\u001b[0;31m                 \u001b[0;32mfor\u001b[0m \u001b[0mi\u001b[0m \u001b[0;32min\u001b[0m \u001b[0my\u001b[0m\u001b[0;34m:\u001b[0m\u001b[0;34m\u001b[0m\u001b[0;34m\u001b[0m\u001b[0m\n\u001b[0m\u001b[1;32m     39\u001b[0m                         \u001b[0;32mif\u001b[0m \u001b[0mi\u001b[0m \u001b[0;32mnot\u001b[0m \u001b[0;32min\u001b[0m  \u001b[0mdic\u001b[0m\u001b[0;34m:\u001b[0m\u001b[0;34m\u001b[0m\u001b[0;34m\u001b[0m\u001b[0m\n\u001b[1;32m     40\u001b[0m                                 \u001b[0mdic\u001b[0m\u001b[0;34m[\u001b[0m\u001b[0mi\u001b[0m\u001b[0;34m]\u001b[0m \u001b[0;34m=\u001b[0m \u001b[0;36m0\u001b[0m\u001b[0;34m\u001b[0m\u001b[0;34m\u001b[0m\u001b[0m\n",
      "\u001b[0;31mKeyboardInterrupt\u001b[0m: "
     ]
    }
   ],
   "source": [
    "import pandas as pd\n",
    "import numpy as np\n",
    "\n",
    "df_train = pd.read_csv(\"data/train.csv\")\n",
    "df_test = pd.read_csv(\"data/test.csv\")\n",
    "train = df_train.to_numpy()\n",
    "X = train[:,1:]\n",
    "y = train[:,0]\n",
    "classifier = DecisionTree()\n",
    "classifier.fit(X, y)\n",
    "\n",
    "f = open(\"outputs/submission_dt.csv\", \"w\")\n",
    "f.write(\"ImageId,Label\\n\" )\n",
    "test = df_test\n",
    "test = test.to_numpy()\n",
    "for i in range(len(test)):\n",
    "    a = classifier.predict(test[i])\n",
    "    f.write(str(i+1) + \",\" + str(a) +\"\\n\")\n",
    "f.close()"
   ]
  }
 ],
 "metadata": {
  "kernelspec": {
   "display_name": "Python 3",
   "language": "python",
   "name": "python3"
  },
  "language_info": {
   "codemirror_mode": {
    "name": "ipython",
    "version": 3
   },
   "file_extension": ".py",
   "mimetype": "text/x-python",
   "name": "python",
   "nbconvert_exporter": "python",
   "pygments_lexer": "ipython3",
   "version": "3.7.6"
  }
 },
 "nbformat": 4,
 "nbformat_minor": 4
}
