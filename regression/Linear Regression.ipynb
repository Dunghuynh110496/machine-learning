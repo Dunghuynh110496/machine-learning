{
 "cells": [
  {
   "cell_type": "markdown",
   "metadata": {},
   "source": [
    "## Model Definition:\n",
    "Least squares solution (matrix version)\n",
    "\n",
    "$\n",
    "L = {\\sum\\nolimits_{i = 1}^n {\\left( {{y_i} - {x_i}^Tw} \\right)} ^2}\n",
    "$\n",
    "\n",
    "$\n",
    "L = {\\left\\| {{y} - Xw} \\right\\|^2}\n",
    "$\n",
    "because $\\sum\\nolimits_{i = 1}^n {{x_i}^Tw}  = Xw$\n",
    "\n",
    "$\n",
    "L = {\\left( {{y} - Xw} \\right)^T}\\left( {{y} - Xw} \\right)\n",
    "$\n",
    "\n",
    "\n",
    "Find minimum of L\n",
    "\n",
    "$\n",
    "{\\nabla _w}L = {\\nabla _w}\\left( {{{\\left( {y - Xw} \\right)}^T}\\left( {y - Xw} \\right)} \\right)\n",
    "$\n",
    "\n",
    "$\n",
    "\\Leftrightarrow {\\nabla _w}L = {\\nabla _w}\\left( {{y^T}y - yXw - {X^T}{w^T}y + {X^T}{w^T}Xw} \\right)\n",
    "$\n",
    "\n",
    "$\n",
    "\\Leftrightarrow {\\nabla _w}L = {\\nabla _w}\\left( {{y^T}y} \\right) - {\\nabla _w}\\left( {yXw} \\right) - {\\nabla _w}\\left( {{X^T}{w^T}y} \\right) + {\\nabla _w}\\left( {{X^T}{w^T}Xw} \\right)\n",
    "$\n",
    "\n",
    "$\n",
    " \\Leftrightarrow {\\nabla _w}L =  - yX - {X^T}y + 2{X^T}Xw = 0\n",
    "$\n",
    "\n",
    "$\n",
    "\\Leftrightarrow {\\nabla _w}L =  - {X^T}y - {X^T}y + 2{X^T}Xw =  - 2{X^T}y + 2{X^T}Xw = 0\n",
    "$\n",
    "\n",
    "$\n",
    "\\Leftrightarrow 2{X^T}Xw = 2{X^T}y\n",
    "$\n",
    "\n",
    "$\n",
    "\\Rightarrow w =  {\\left( {{X^T}X} \\right)^{ - 1}}{X^T}y\n",
    "$\n"
   ]
  },
  {
   "cell_type": "markdown",
   "metadata": {},
   "source": [
    "## How to fit it:\n",
    "    - Separate the the training data to 2 parts X = train[:,1:len(X[0])-1] and y = train[:,-1]\n",
    "    - Find the weight of Linear Regression by the below formula:\n",
    "$$ w =  {\\left( {{X^T}X} \\right)^{ - 1}}{X^T}y$$"
   ]
  },
  {
   "cell_type": "markdown",
   "metadata": {},
   "source": [
    "## How to use it:\n",
    "    1. Slicing the testing data \n",
    "$$x_{new} = test[:,1:]$$\n",
    "    2. Find the new data by the formula.\n",
    "$${y_{new}} \\approx {x_{new}}^T.{w_{LS}}$$"
   ]
  },
  {
   "cell_type": "code",
   "execution_count": 6,
   "metadata": {},
   "outputs": [],
   "source": [
    "import numpy as np\n",
    "\n",
    "class LinearRegression:\n",
    "\tdef __init__(self,):\n",
    "\t\tpass\n",
    "\n",
    "\tdef fit(self, X, y):\n",
    "\t\tself.w = 0\n",
    "\t\tX_t = X.transpose()\n",
    "\t\tX_tX = np.matmul(X_t, X).astype(\"Float32\")\n",
    "\t\tinvX_tX = np.linalg.inv(X_tX)\n",
    "\t\tself.w = np.matmul(np.matmul(invX_tX,X_t),y)\n",
    "\n",
    "\tdef predict(self, x):\n",
    "\t\ty = np.matmul(x.transpose(), self.w)\n",
    "\t\treturn y"
   ]
  },
  {
   "cell_type": "markdown",
   "metadata": {},
   "source": [
    "# Line Regresion "
   ]
  },
  {
   "cell_type": "code",
   "execution_count": 7,
   "metadata": {},
   "outputs": [
    {
     "name": "stderr",
     "output_type": "stream",
     "text": [
      "/home/parker/anaconda3/lib/python3.7/site-packages/ipykernel_launcher.py:10: DeprecationWarning: Numeric-style type codes are deprecated and will result in an error in the future.\n",
      "  # Remove the CWD from sys.path while we load stuff.\n"
     ]
    },
    {
     "data": {
      "text/plain": [
       "[<matplotlib.lines.Line2D at 0x7f1822203810>]"
      ]
     },
     "execution_count": 7,
     "metadata": {},
     "output_type": "execute_result"
    },
    {
     "data": {
      "image/png": "[encoded data removed]",
      "text/plain": [
       "<Figure size 432x288 with 1 Axes>"
      ]
     },
     "metadata": {
      "needs_background": "light"
     },
     "output_type": "display_data"
    }
   ],
   "source": [
    "%matplotlib inline\n",
    "import matplotlib.pyplot as plt\n",
    "\n",
    "n = 50\n",
    "a = 3\n",
    "b = 4\n",
    "x = np.linspace(-10, 10, n)\n",
    "X = np.array([[1,i] for i in x ])\n",
    "y = a* x + b + np.random.normal(0,1000,n)\n",
    "classifier = LinearRegression()\n",
    "classifier.fit(X,y)\n",
    "\n",
    "plt.scatter(x,y)\n",
    "plt.plot(x, a*x + b, color = 'r')\n",
    "plt.plot(x,classifier.w[0]+classifier.w[1]*x,color = 'black')"
   ]
  },
  {
   "cell_type": "markdown",
   "metadata": {},
   "source": [
    "# Parabola Regression"
   ]
  },
  {
   "cell_type": "code",
   "execution_count": 8,
   "metadata": {},
   "outputs": [
    {
     "name": "stderr",
     "output_type": "stream",
     "text": [
      "/home/parker/anaconda3/lib/python3.7/site-packages/ipykernel_launcher.py:10: DeprecationWarning: Numeric-style type codes are deprecated and will result in an error in the future.\n",
      "  # Remove the CWD from sys.path while we load stuff.\n"
     ]
    },
    {
     "data": {
      "text/plain": [
       "[<matplotlib.lines.Line2D at 0x7f1820070490>]"
      ]
     },
     "execution_count": 8,
     "metadata": {},
     "output_type": "execute_result"
    },
    {
     "data": {
      "image/png": "[encoded data removed]",
      "text/plain": [
       "<Figure size 432x288 with 1 Axes>"
      ]
     },
     "metadata": {
      "needs_background": "light"
     },
     "output_type": "display_data"
    }
   ],
   "source": [
    "%matplotlib inline\n",
    "import matplotlib.pyplot as plt\n",
    "\n",
    "n = 100\n",
    "a = 2\n",
    "b = 4\n",
    "c = 6\n",
    "x = np.linspace(-10, 10, n)\n",
    "X = np.array([[1 , i, i*i] for i in x])\n",
    "y = a*x*x + b*x + c + np.random.normal(0,40,n)\n",
    "classifier = LinearRegression()\n",
    "classifier.fit(X,y)\n",
    "\n",
    "plt.scatter(x,y)\n",
    "plt.plot(x, a*x*x + b*x + c, color = 'r')\n",
    "plt.plot(x,classifier.w[0]+classifier.w[1]*x+classifier.w[2]*x*x,color = 'black')"
   ]
  },
  {
   "cell_type": "markdown",
   "metadata": {},
   "source": [
    "# Kaggle Regression"
   ]
  },
  {
   "cell_type": "code",
   "execution_count": 1,
   "metadata": {},
   "outputs": [],
   "source": [
    "# Transform the training and testting data\n",
    "import pandas as pd\n",
    "\n",
    "df_train = pd.read_csv(\"../data/house-price/data/train.csv\")\n",
    "df_test = pd.read_csv(\"../data/house-price/data/test.csv\")\n",
    "df_train = df_train.fillna(0)\n",
    "df_test = df_test.fillna(0)\n",
    "df_train = df_train.to_numpy()\n",
    "df_test = df_test.to_numpy()\n",
    "for i in range(1,len(df_train[0])-1):\n",
    "    k = 1.0\n",
    "    dic = {}\n",
    "    \n",
    "    #Transform the training data\n",
    "    for j in range(len(df_train)):\n",
    "        if df_train[:,i][j] == \"None\":\n",
    "            df_train[:,i][j] = 0.0\n",
    "            continue\n",
    "        if type(df_train[:,i][j]) is str:\n",
    "            if df_train[:,i][j] not in dic:\n",
    "                dic[df_train[:,i][j]] = k\n",
    "                k += 1\n",
    "            df_train[:,i][j] = dic[df_train[:,i][j]]\n",
    "            \n",
    "    #Transform the testing data\n",
    "    for j in range(len(df_test)):\n",
    "        if type(df_test[:,i][j]) is str:\n",
    "            if df_test[:,i][j] == \"None\":\n",
    "                df_test[:,i][j] = 0.0\n",
    "                continue\n",
    "            df_test[:,i][j] = dic[df_test[:,i][j]]"
   ]
  },
  {
   "cell_type": "code",
   "execution_count": 10,
   "metadata": {},
   "outputs": [
    {
     "name": "stderr",
     "output_type": "stream",
     "text": [
      "/home/parker/anaconda3/lib/python3.7/site-packages/ipykernel_launcher.py:10: DeprecationWarning: Numeric-style type codes are deprecated and will result in an error in the future.\n",
      "  # Remove the CWD from sys.path while we load stuff.\n"
     ]
    }
   ],
   "source": [
    "classifier = LinearRegression()\n",
    "\n",
    "X = df_train[:,1:-1]\n",
    "y = df_train[:,-1]\n",
    "X = np.insert(X, 0, 1, axis=1)\n",
    "classifier.fit(X,y)\n",
    "\n",
    "f = open(\"../data/house-price/outputs/submission_linear-regression.csv\", \"w\")\n",
    "f.write(\"Id,SalePrice\\n\" )\n",
    "test = np.insert(df_test, 1, 1, axis=1)\n",
    "for i in range(len(test)):\n",
    "    a = classifier.predict(test[i][1:])\n",
    "    f.write(str(test[i][0]) + \",\" + str(round(a, 1)) +\"\\n\")\n",
    "f.close()"
   ]
  },
  {
   "cell_type": "markdown",
   "metadata": {},
   "source": [
    "## Use scikit learn"
   ]
  },
  {
   "cell_type": "code",
   "execution_count": 91,
   "metadata": {},
   "outputs": [],
   "source": [
    "#Import functions\n",
    "import pandas as pd\n",
    "import numpy as np\n",
    "from sklearn.preprocessing import MinMaxScaler\n",
    "from sklearn.linear_model import LinearRegression"
   ]
  },
  {
   "cell_type": "code",
   "execution_count": 101,
   "metadata": {},
   "outputs": [],
   "source": [
    "# Transform the training and testting data\n",
    "df_train = pd.read_csv(\"../data/house-price/data/train.csv\")\n",
    "df_test = pd.read_csv(\"../data/house-price/data/test.csv\")\n",
    "df_train = df_train.fillna(0)\n",
    "df_test = df_test.fillna(0)\n",
    "df_train = df_train.to_numpy()\n",
    "df_test = df_test.to_numpy()\n",
    "for i in range(1,len(df_train[0])-1):\n",
    "    k = 1.0\n",
    "    dic = {}\n",
    "    \n",
    "    #Transform the training data\n",
    "    for j in range(len(df_train)):\n",
    "        if df_train[:,i][j] == \"None\":\n",
    "            df_train[:,i][j] = 0.0\n",
    "            continue\n",
    "        if type(df_train[:,i][j]) is str:\n",
    "            if df_train[:,i][j] not in dic:\n",
    "                dic[df_train[:,i][j]] = k\n",
    "                k += 1\n",
    "            df_train[:,i][j] = dic[df_train[:,i][j]]\n",
    "            \n",
    "    #Transform the testing data\n",
    "    for j in range(len(df_test)):\n",
    "        if type(df_test[:,i][j]) is str:\n",
    "            if df_test[:,i][j] == \"None\":\n",
    "                df_test[:,i][j] = 0.0\n",
    "                continue\n",
    "            df_test[:,i][j] = dic[df_test[:,i][j]]"
   ]
  },
  {
   "cell_type": "code",
   "execution_count": 102,
   "metadata": {},
   "outputs": [],
   "source": [
    "X = df_train[:,1:-1]\n",
    "y = df_train[:,-1]\n",
    "test = df_test[:,1:]\n",
    "id_test = df_test[:,0]\n",
    "scaler = MinMaxScaler()\n",
    "scaler.fit(X)\n",
    "X_transform = scaler.transform(X)\n",
    "test_transform = scaler.transform(test)"
   ]
  },
  {
   "cell_type": "code",
   "execution_count": 103,
   "metadata": {},
   "outputs": [],
   "source": [
    "linreg = LinearRegression().fit(X_transform,y)\n",
    "predictions = linreg.predict(test_transform)\n",
    "f = open(\"../data/house-price/outputs/submission_linear-regression_sklearn.csv\", \"w\")\n",
    "f.write(\"Id,SalePrice\\n\" )\n",
    "for i in range(len(predictions)):\n",
    "    f.write(str(id_test[i]) + \",\" + str(round(predictions[i], 1)) +\"\\n\")\n",
    "f.close()"
   ]
  }
 ],
 "metadata": {
  "kernelspec": {
   "display_name": "Python 3",
   "language": "python",
   "name": "python3"
  },
  "language_info": {
   "codemirror_mode": {
    "name": "ipython",
    "version": 3
   },
   "file_extension": ".py",
   "mimetype": "text/x-python",
   "name": "python",
   "nbconvert_exporter": "python",
   "pygments_lexer": "ipython3",
   "version": "3.7.6"
  }
 },
 "nbformat": 4,
 "nbformat_minor": 4
}
