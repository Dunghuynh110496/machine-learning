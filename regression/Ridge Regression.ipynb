{
 "cells": [
  {
   "cell_type": "markdown",
   "metadata": {},
   "source": [
    "## Model definition:"
   ]
  },
  {
   "cell_type": "markdown",
   "metadata": {},
   "source": [
    "$$\n",
    "{w_{RR}} = \\arg \\mathop {\\min }\\limits_w {\\left\\| {y - Xw} \\right\\|^2} + \\lambda g\\left( w \\right)\n",
    "$$\n",
    "\n",
    "$${w_{RR}} = \\arg \\mathop {\\min }\\limits_w {\\left\\| {y - Xw} \\right\\|^2} + \\lambda {\\left\\| w \\right\\|^2}$$\n",
    "\n",
    "We have:\n",
    "\n",
    "$L = {\\left\\| {y - Xw} \\right\\|^2} + \\lambda {\\left\\| w \\right\\|^2}$\n",
    "\n",
    "$ {\\nabla _w}L = {\\nabla _w}\\left( {{{\\left\\| {y - Xw} \\right\\|}^2} + \\lambda {{\\left\\| w \\right\\|}^2}} \\right)$\n",
    "\n",
    "$ {\\nabla _w}L = {\\nabla _w}\\left( {{{\\left( {y - Xw} \\right)}^T}\\left( {y - Xw} \\right) + \\lambda {w^T}w} \\right)$\n",
    "\n",
    "\n",
    "$ {\\nabla _w}L = {\\nabla _w}\\left( {{y^T}y - {y^T}Xw - {w^T}{X^T}y + {w^T}{X^T}Xw + \\lambda {w^T}w} \\right)$\n",
    "\n",
    "${\\nabla _w}L = {\\nabla _w}\\left( { - {w^T}{X^T}y - {w^T}{X^T}y + {w^T}{X^T}Xw + \\lambda {w^T}w} \\right)$\n",
    "\n",
    "$\\Rightarrow  - 2{X^T}y + 2{X^T}Xw + 2\\lambda w = 0$\n",
    "\n",
    "$\\Leftrightarrow \\left( {2{X^T}X + 2\\lambda I} \\right)w = 2{X^T}y$\n",
    "\n",
    "$\\Leftrightarrow w = {\\left( {{X^T}X + \\lambda I} \\right)^{ - 1}}{X^T}y$\n",
    "\n"
   ]
  },
  {
   "cell_type": "markdown",
   "metadata": {},
   "source": [
    "## How to fit it:\n",
    "    - Separate the the training data to 2 parts X = train[:,1:len(X[0])-1] and y = train[:,-1]\n",
    "    - Create the identity matrix I\n",
    "    - Choose the lambda\n",
    "    - Find the weight of Lieaner Regression by the below formula:\n",
    "\n",
    "$$\\Leftrightarrow w = {\\left( {{X^T}X + \\lambda I} \\right)^{ - 1}}{X^T}y$$"
   ]
  },
  {
   "cell_type": "markdown",
   "metadata": {},
   "source": [
    "## How to use it:\n",
    "    1. Slicing the testing data \n",
    "$$x_{new} = test[:,1:]$$\n",
    "    2. Find the new data by the formula.\n",
    "$${y_{new}} \\approx {x_{new}}^T.{w_{LS}}$$"
   ]
  },
  {
   "cell_type": "code",
   "execution_count": 18,
   "metadata": {},
   "outputs": [],
   "source": [
    "import numpy as np\n",
    "\n",
    "class RidgeRegression:\n",
    "    def __init__(self,lamda):\n",
    "        self.lamda = lamda\n",
    "\n",
    "    def fit(self, X, y):\n",
    "        self.w = 0\n",
    "        X_t = X.transpose()\n",
    "        X_tX = np.matmul(X_t, X)\n",
    "        id_mat = np.identity(len(X_tX))\n",
    "        temp = self.lamda*id_mat + X_tX\n",
    "        temp = temp.astype(\"Float32\")\n",
    "        invX_tX = np.linalg.inv(temp)\n",
    "        a = np.matmul(invX_tX,X_t)\n",
    "        self.w = np.matmul(np.matmul(invX_tX,X_t),y)\n",
    "        \n",
    "    def predict(self, x):\n",
    "        y = np.matmul(x.transpose(), self.w)\n",
    "        return y"
   ]
  },
  {
   "cell_type": "markdown",
   "metadata": {},
   "source": [
    "# Line Regression"
   ]
  },
  {
   "cell_type": "code",
   "execution_count": 19,
   "metadata": {},
   "outputs": [
    {
     "name": "stderr",
     "output_type": "stream",
     "text": [
      "/home/parker/anaconda3/lib/python3.7/site-packages/ipykernel_launcher.py:15: DeprecationWarning: Numeric-style type codes are deprecated and will result in an error in the future.\n",
      "  from ipykernel import kernelapp as app\n"
     ]
    },
    {
     "data": {
      "text/plain": [
       "[<matplotlib.lines.Line2D at 0x7f40edf1b810>]"
      ]
     },
     "execution_count": 19,
     "metadata": {},
     "output_type": "execute_result"
    },
    {
     "data": {
      "image/png": "[encoded data removed]",
      "text/plain": [
       "<Figure size 432x288 with 1 Axes>"
      ]
     },
     "metadata": {
      "needs_background": "light"
     },
     "output_type": "display_data"
    }
   ],
   "source": [
    "%matplotlib inline\n",
    "import matplotlib.pyplot as plt\n",
    "\n",
    "n = 50\n",
    "a = 3\n",
    "b = 4\n",
    "x = np.linspace(-10, 10, n)\n",
    "X = np.array([[1,i] for i in x ])\n",
    "y = a* x + b + np.random.normal(0,1000,n)\n",
    "classifier = RidgeRegression(5)\n",
    "classifier.fit(X,y)\n",
    "\n",
    "plt.scatter(x,y)\n",
    "plt.plot(x, a*x + b, color = 'r')\n",
    "plt.plot(x,classifier.w[0]+classifier.w[1]*x,color = 'black')"
   ]
  },
  {
   "cell_type": "markdown",
   "metadata": {},
   "source": [
    "# Parabola Regression"
   ]
  },
  {
   "cell_type": "code",
   "execution_count": 20,
   "metadata": {},
   "outputs": [
    {
     "name": "stderr",
     "output_type": "stream",
     "text": [
      "/home/parker/anaconda3/lib/python3.7/site-packages/ipykernel_launcher.py:15: DeprecationWarning: Numeric-style type codes are deprecated and will result in an error in the future.\n",
      "  from ipykernel import kernelapp as app\n"
     ]
    },
    {
     "data": {
      "text/plain": [
       "[<matplotlib.lines.Line2D at 0x7f40e724bd10>]"
      ]
     },
     "execution_count": 20,
     "metadata": {},
     "output_type": "execute_result"
    },
    {
     "data": {
      "image/png": "[encoded data removed]",
      "text/plain": [
       "<Figure size 432x288 with 1 Axes>"
      ]
     },
     "metadata": {
      "needs_background": "light"
     },
     "output_type": "display_data"
    }
   ],
   "source": [
    "%matplotlib inline\n",
    "import matplotlib.pyplot as plt\n",
    "\n",
    "n = 100\n",
    "a = 2\n",
    "b = 4\n",
    "c = 6\n",
    "x = np.linspace(-10, 10, n)\n",
    "X = np.array([[1 , i, i*i] for i in x])\n",
    "y = a*x*x + b*x + c + np.random.normal(0,40,n)\n",
    "classifier = RidgeRegression(5)\n",
    "classifier.fit(X,y)\n",
    "\n",
    "plt.scatter(x,y)\n",
    "plt.plot(x, a*x*x + b*x + c, color = 'r')\n",
    "plt.plot(x,classifier.w[0]+classifier.w[1]*x+classifier.w[2]*x*x,color = 'black')"
   ]
  },
  {
   "cell_type": "markdown",
   "metadata": {},
   "source": [
    "# Kaggle Regression"
   ]
  },
  {
   "cell_type": "code",
   "execution_count": 21,
   "metadata": {},
   "outputs": [],
   "source": [
    "# Transform the training and testting data\n",
    "import pandas as pd\n",
    "\n",
    "df_train = pd.read_csv(\"../data/house-price/data/train.csv\")\n",
    "df_test = pd.read_csv(\"../data/house-price/data/test.csv\")\n",
    "df_train = df_train.fillna(0)\n",
    "df_test = df_test.fillna(0)\n",
    "df_train = df_train.to_numpy()\n",
    "df_test = df_test.to_numpy()\n",
    "for i in range(1,len(df_train[0])-1):\n",
    "    k = 1.0\n",
    "    dic = {}\n",
    "    \n",
    "    #Transform the training data\n",
    "    for j in range(len(df_train)):\n",
    "        if df_train[:,i][j] == \"None\":\n",
    "            df_train[:,i][j] = 0.0\n",
    "            continue\n",
    "        if type(df_train[:,i][j]) is str:\n",
    "            if df_train[:,i][j] not in dic:\n",
    "                dic[df_train[:,i][j]] = k\n",
    "                k += 1\n",
    "            df_train[:,i][j] = dic[df_train[:,i][j]]\n",
    "            \n",
    "    #Transform the testing data\n",
    "    for j in range(len(df_test)):\n",
    "        if type(df_test[:,i][j]) is str:\n",
    "            if df_test[:,i][j] == \"None\":\n",
    "                df_test[:,i][j] = 0.0\n",
    "                continue\n",
    "            df_test[:,i][j] = dic[df_test[:,i][j]]"
   ]
  },
  {
   "cell_type": "code",
   "execution_count": 22,
   "metadata": {},
   "outputs": [
    {
     "name": "stderr",
     "output_type": "stream",
     "text": [
      "/home/parker/anaconda3/lib/python3.7/site-packages/ipykernel_launcher.py:15: DeprecationWarning: Numeric-style type codes are deprecated and will result in an error in the future.\n",
      "  from ipykernel import kernelapp as app\n"
     ]
    }
   ],
   "source": [
    "classifier = RidgeRegression(0.5)\n",
    "X = df.train[:,1:len(train[0])-1]\n",
    "y = df.train[:,-1]\n",
    "X = np.insert(X, 0, 1, axis=1)\n",
    "\n",
    "f = open(\"../data/house-price/outputs/submission_ridge-regression.csv\", \"w\")\n",
    "f.write(\"Id,SalePrice\\n\" )\n",
    "test = np.insert(df_test, 1, 1, axis=1)\n",
    "for i in range(len(test)):\n",
    "    a = classifier.predict(test[i][1:])\n",
    "    f.write(str(test[i][0]) + \",\" + str(round(a, 1)) +\"\\n\")\n",
    "f.close()"
   ]
  }
 ],
 "metadata": {
  "kernelspec": {
   "display_name": "Python 3",
   "language": "python",
   "name": "python3"
  },
  "language_info": {
   "codemirror_mode": {
    "name": "ipython",
    "version": 3
   },
   "file_extension": ".py",
   "mimetype": "text/x-python",
   "name": "python",
   "nbconvert_exporter": "python",
   "pygments_lexer": "ipython3",
   "version": "3.7.6"
  }
 },
 "nbformat": 4,
 "nbformat_minor": 4
}
