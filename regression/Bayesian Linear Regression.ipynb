{
 "cells": [
  {
   "cell_type": "markdown",
   "metadata": {},
   "source": [
    "## Model definition:\n",
    "\n",
    "we have vector $y \\in R^d$ and covariates matrix $X \\in R^{nxd}$. The ith row of y and X corespond to the ith observation $(y_i, x_i)$.\n",
    "\n",
    "In a Bayesian setting, we model this data as:\n",
    "\n",
    "    - Likelihood:\n",
    "$$y ∼ N(Xw,{\\sigma}^2I)$$\n",
    "    - Prior:\n",
    "$$w ∼ N(0,\\lambda^{-1}I)$$\n",
    "\n",
    "We have:\n",
    "\n",
    "$\n",
    "p\\left( {w|y,X} \\right) = p\\left( {y|w,X} \\right)p\\left( w \\right)\n",
    "$\n",
    "\n",
    "$\n",
    "\\Leftrightarrow p\\left( {w|y,X} \\right) = \\left( {\\frac{1}{{\\sigma \\sqrt {2\\pi } }}\\exp \\left( { - \\frac{{{{\\left( {y - Xw} \\right)}^T}\\left( {y - Xw} \\right)}}{{2{\\sigma ^2}}}} \\right)} \\right)\\left( {{{\\left( {\\frac{\\lambda }{{2\\pi }}} \\right)}^{\\frac{d}{2}}}\\exp \\left( { - \\frac{\\lambda }{2}{w^T}w} \\right)} \\right)\n",
    "$\n",
    "\n",
    "$\n",
    "\\Rightarrow p\\left( {w|y,X} \\right) \\propto \\exp \\left( { - \\frac{{{{\\left( {y - Xw} \\right)}^T}\\left( {y - Xw} \\right)}}{{2{\\sigma ^2}}}} \\right)\\exp \\left( { - \\frac{\\lambda }{2}{w^T}w} \\right)\n",
    "$\n",
    "\n",
    "$\n",
    "\\Rightarrow p\\left( {w|y,X} \\right) \\propto \\exp \\left( { - \\frac{{{{\\left( {y - Xw} \\right)}^T}\\left( {y - Xw} \\right)}}{{2{\\sigma ^2}}} - \\frac{\\lambda }{2}{w^T}w} \\right)\n",
    "$\n",
    "\n",
    "$\n",
    "\\Rightarrow p\\left( {w|y,X} \\right) \\propto \\exp \\left( {\\left( {\\frac{{ - 1}}{2}} \\right)\\left( {{\\sigma ^{-2}}{{\\left( {y - Xw} \\right)}^T}\\left( {y - Xw} \\right) + \\lambda {w^T}w} \\right)} \\right)\n",
    "$\n",
    "\n",
    "$\n",
    "\\Rightarrow p\\left( {w|y,X} \\right) \\propto \\exp \\left( {\\left( {\\frac{{ - 1}}{2}} \\right)\\left( {{\\sigma ^{-2}}\\left( {{y^T}y - {y^T}Xw - {X^T}{w^T}y + {X^T}{w^T}Xw} \\right) + \\lambda {w^T}w} \\right)} \\right)\n",
    "$\n",
    "\n",
    "$\n",
    "\\Rightarrow p\\left( {w|y,X} \\right) \\propto \\exp \\left( {\\left( {\\frac{{ - 1}}{2}} \\right)\\left( {{\\sigma ^{ - 2}}{y^T}y - {\\sigma ^{ - 2}}{y^T}Xw - {\\sigma ^{ - 2}}{X^T}{w^T}y + {\\sigma ^{ - 2}}{w^T}{X^T}Xw + \\lambda {w^T}w} \\right)} \\right)\n",
    "$\n",
    "\n",
    "$\n",
    "\\Rightarrow p\\left( {w|y,X} \\right) \\propto \\exp \\left( {\\left( {\\frac{{ - 1}}{2}} \\right)\\left( {{w^T}\\left( {\\lambda I + {\\sigma ^{ - 2}}{X^T}X} \\right)w - {\\sigma ^{ - 2}}{y^T}Xw - {\\sigma ^{ - 2}}{X^T}{w^T}y} \\right) + {\\sigma ^{ - 2}}{y^T}y} \\right)\n",
    "$\n",
    "\n",
    "$\n",
    "\\Rightarrow p\\left( {w|y,X} \\right) \\propto \\exp \\left( {\\left( {\\frac{{ - 1}}{2}} \\right)\\left( {{w^T}\\left( {\\lambda I + {\\sigma ^{ - 2}}{X^T}X} \\right)w - {\\sigma ^{ - 2}}{y^T}Xw - {\\sigma ^{ - 2}}{X^T}{w^T}y} \\right) + {\\sigma ^{ - 2}}{y^T}y} \\right)\n",
    "$\n",
    "\n",
    "$\n",
    "\\Rightarrow p\\left( {w|y,X} \\right) \\propto \\exp \\left( {\\left( {\\frac{{ - 1}}{2}} \\right)\\left( {{w^T}\\left( {\\lambda I + {\\sigma ^{ - 2}}{X^T}X} \\right)w - {\\sigma ^{ - 2}}{X^T}{w^T}y - {\\sigma ^{ - 2}}{X^T}{w^T}y} \\right)} \\right)\n",
    "$\n",
    "\n",
    "$\n",
    "\\Rightarrow p\\left( {w|y,X} \\right) \\propto \\exp \\left( {\\left( {\\frac{{ - 1}}{2}} \\right)\\left( {{w^T}\\left( {\\lambda I + {\\sigma ^{ - 2}}{X^T}X} \\right)w - 2{\\sigma ^{ - 2}}{X^T}{w^T}y} \\right)} \\right)\n",
    "$\n",
    "\n",
    "\n",
    "We compare with Normal distribution\n",
    "\n",
    "if $p\\left( {w|y,X} \\right) = N\\left( {w|\\mu ,\\Sigma } \\right)$, then :\n",
    "\n",
    "$$\\Sigma  = {\\left( {\\lambda I + {\\sigma ^{ - 2}}{X^T}X} \\right)^{ - 1}}$$\n",
    "\n",
    "$$\\mu  = {\\text{ }}{(\\lambda {\\sigma ^2}I + X^TX)^{ - 1}}{X^T}y = {w_{MAP}}$$\n"
   ]
  },
  {
   "cell_type": "markdown",
   "metadata": {},
   "source": [
    "## How to fit it:\n",
    "    - Separate the the training data to 2 parts X = train[:,1:len(X[0])-1] and y = train[:,-1]\n",
    "    - Create the identity matrix I\n",
    "    - Choose the lambda\n",
    "    - Find the variance of the y values\n",
    "    - Find the weight of Lieaner Regression by the below formula:\n",
    "\n",
    "$$\\mu  = {\\text{ }}{(\\lambda {\\sigma ^2}I + X^TX)^{ - 1}}{X^T}y = {w_{MAP}}$$"
   ]
  },
  {
   "cell_type": "markdown",
   "metadata": {},
   "source": [
    "## How to use it:\n",
    "    1. Slicing the testing data \n",
    "$$x_{new} = test[:,1:]$$\n",
    "    2. Find the new data by the formula.\n",
    "$${y_{new}} \\approx {x_{new}}^T.{w_{MAP}}$$"
   ]
  },
  {
   "cell_type": "code",
   "execution_count": 18,
   "metadata": {},
   "outputs": [],
   "source": [
    "import numpy as np\n",
    "\n",
    "class BayesRegression:\n",
    "\tdef __init__(self,lamda):\n",
    "\t\tself.lamda = lamda\n",
    "\n",
    "\tdef fit(self, X, y):\n",
    "\t\tself.w = 0\n",
    "\t\tX_t = X.transpose()\n",
    "\t\tX_tX = np.matmul(X_t, X)\n",
    "\t\tid_mat = np.identity(len(X_tX))\n",
    "\t\tvar = np.var(y)\n",
    "\t\ttemp = (self.lamda*var*id_mat + X_tX).astype(\"Float32\")\n",
    "\t\tinvX_tX = np.linalg.inv(temp)\n",
    "\t\tself.w = np.matmul(np.matmul(invX_tX,X_t),y)\n",
    "\n",
    "\tdef predict(self, x):\n",
    "\t\ty = np.matmul(x.transpose(), self.w)\n",
    "\t\treturn y"
   ]
  },
  {
   "cell_type": "markdown",
   "metadata": {},
   "source": [
    "# Line Regression"
   ]
  },
  {
   "cell_type": "code",
   "execution_count": 19,
   "metadata": {},
   "outputs": [
    {
     "name": "stderr",
     "output_type": "stream",
     "text": [
      "/home/parker/anaconda3/lib/python3.7/site-packages/ipykernel_launcher.py:13: DeprecationWarning: Numeric-style type codes are deprecated and will result in an error in the future.\n",
      "  del sys.path[0]\n"
     ]
    },
    {
     "data": {
      "text/plain": [
       "[<matplotlib.lines.Line2D at 0x7f5fdd2d7950>]"
      ]
     },
     "execution_count": 19,
     "metadata": {},
     "output_type": "execute_result"
    },
    {
     "data": {
      "image/png": "[encoded data removed]",
      "text/plain": [
       "<Figure size 432x288 with 1 Axes>"
      ]
     },
     "metadata": {
      "needs_background": "light"
     },
     "output_type": "display_data"
    }
   ],
   "source": [
    "%matplotlib inline\n",
    "import matplotlib.pyplot as plt\n",
    "\n",
    "n = 50\n",
    "a = 3\n",
    "b = 4\n",
    "x = np.linspace(-10, 10, n)\n",
    "X = np.array([[1,i] for i in x ])\n",
    "y = a* x + b + np.random.normal(0,1000,n)\n",
    "classifier = BayesRegression(0.5)\n",
    "classifier.fit(X,y)\n",
    "\n",
    "plt.scatter(x,y)\n",
    "plt.plot(x, a*x + b, color = 'r')\n",
    "plt.plot(x,classifier.w[0]+classifier.w[1]*x,color = 'black')"
   ]
  },
  {
   "cell_type": "markdown",
   "metadata": {},
   "source": [
    "# Parabola Regression"
   ]
  },
  {
   "cell_type": "code",
   "execution_count": 20,
   "metadata": {},
   "outputs": [
    {
     "name": "stderr",
     "output_type": "stream",
     "text": [
      "/home/parker/anaconda3/lib/python3.7/site-packages/ipykernel_launcher.py:13: DeprecationWarning: Numeric-style type codes are deprecated and will result in an error in the future.\n",
      "  del sys.path[0]\n"
     ]
    },
    {
     "data": {
      "text/plain": [
       "[<matplotlib.lines.Line2D at 0x7f5fdd196f10>]"
      ]
     },
     "execution_count": 20,
     "metadata": {},
     "output_type": "execute_result"
    },
    {
     "data": {
      "image/png": "[encoded data removed]",
      "text/plain": [
       "<Figure size 432x288 with 1 Axes>"
      ]
     },
     "metadata": {
      "needs_background": "light"
     },
     "output_type": "display_data"
    }
   ],
   "source": [
    "%matplotlib inline\n",
    "import matplotlib.pyplot as plt\n",
    "\n",
    "n = 100\n",
    "a = 2\n",
    "b = 4\n",
    "c = 6\n",
    "x = np.linspace(-10, 10, n)\n",
    "X = np.array([[1 , i, i*i] for i in x])\n",
    "y = a*x*x + b*x + c + np.random.normal(0,40,n)\n",
    "classifier = BayesRegression(0.5)\n",
    "classifier.fit(X,y)\n",
    "\n",
    "plt.scatter(x,y)\n",
    "plt.plot(x, a*x*x + b*x + c, color = 'r')\n",
    "plt.plot(x,classifier.w[0]+classifier.w[1]*x+classifier.w[2]*x*x,color = 'black')"
   ]
  },
  {
   "cell_type": "markdown",
   "metadata": {},
   "source": [
    "# Kaggle Regression"
   ]
  },
  {
   "cell_type": "code",
   "execution_count": 21,
   "metadata": {},
   "outputs": [],
   "source": [
    "# Transform the training and testting data\n",
    "import pandas as pd\n",
    "\n",
    "df_train = pd.read_csv(\"../data/house-price/data/train.csv\")\n",
    "df_test = pd.read_csv(\"../data/house-price/data/test.csv\")\n",
    "df_train = df_train.fillna(0)\n",
    "df_test = df_test.fillna(0)\n",
    "df_train = df_train.to_numpy()\n",
    "df_test = df_test.to_numpy()\n",
    "for i in range(1,len(df_train[0])-1):\n",
    "    k = 1.0\n",
    "    dic = {}\n",
    "    \n",
    "    #Transform the training data\n",
    "    for j in range(len(df_train)):\n",
    "        if df_train[:,i][j] == \"None\":\n",
    "            df_train[:,i][j] = 0.0\n",
    "            continue\n",
    "        if type(df_train[:,i][j]) is str:\n",
    "            if df_train[:,i][j] not in dic:\n",
    "                dic[df_train[:,i][j]] = k\n",
    "                k += 1\n",
    "            df_train[:,i][j] = dic[df_train[:,i][j]]\n",
    "            \n",
    "    #Transform the testing data\n",
    "    for j in range(len(df_test)):\n",
    "        if type(df_test[:,i][j]) is str:\n",
    "            if df_test[:,i][j] == \"None\":\n",
    "                df_test[:,i][j] = 0.0\n",
    "                continue\n",
    "            df_test[:,i][j] = dic[df_test[:,i][j]]"
   ]
  },
  {
   "cell_type": "code",
   "execution_count": 22,
   "metadata": {},
   "outputs": [
    {
     "name": "stderr",
     "output_type": "stream",
     "text": [
      "/home/parker/anaconda3/lib/python3.7/site-packages/ipykernel_launcher.py:13: DeprecationWarning: Numeric-style type codes are deprecated and will result in an error in the future.\n",
      "  del sys.path[0]\n"
     ]
    }
   ],
   "source": [
    "classifier = BayesRegression(0)\n",
    "train = df_train\n",
    "X = train[:,1:len(train[0])-1]\n",
    "y = train[:,-1]\n",
    "X = np.insert(X, 0, 1, axis=1)\n",
    "classifier.fit(X,y)\n",
    "\n",
    "f = open(\"../data/house-price/outputs/submission_bayesian-linear-regression.csv\", \"w\")\n",
    "f.write(\"Id,SalePrice\\n\" )\n",
    "test = np.insert(df_test, 1, 1, axis=1)\n",
    "for i in range(len(test)):\n",
    "    a = classifier.predict(test[i][1:])\n",
    "    f.write(str(test[i][0]) + \",\" + str(round(a, 1)) +\"\\n\")\n",
    "f.close()"
   ]
  }
 ],
 "metadata": {
  "kernelspec": {
   "display_name": "Python 3",
   "language": "python",
   "name": "python3"
  },
  "language_info": {
   "codemirror_mode": {
    "name": "ipython",
    "version": 3
   },
   "file_extension": ".py",
   "mimetype": "text/x-python",
   "name": "python",
   "nbconvert_exporter": "python",
   "pygments_lexer": "ipython3",
   "version": "3.7.6"
  }
 },
 "nbformat": 4,
 "nbformat_minor": 4
}
