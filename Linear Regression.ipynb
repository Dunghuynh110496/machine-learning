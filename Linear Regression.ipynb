{
 "cells": [
  {
   "cell_type": "markdown",
   "metadata": {},
   "source": [
    "Original least squares\n",
    "\n",
    "$\n",
    "L = \\sum\\nolimits_{i = 1}^n {\\left( {{y_i} - {\\omega _0} - \\sum\\nolimits_{j = 1}^d {{x_{ij}}{w_j}} } \\right)} \n",
    "$\n",
    "\n",
    "$\n",
    "L = {\\sum\\nolimits_{i = 1}^n {\\left( {{y_i} - {x_i}^Tw} \\right)} ^2}\n",
    "$\n",
    "\n",
    "$\n",
    "{\\nabla _w}L = {\\nabla _w}{\\sum\\nolimits_{i = 1}^n {\\left( {{y_i} - {x_i}^Tw} \\right)} ^2} = 0\n",
    "$\n",
    "\n",
    "$\n",
    "\\Leftrightarrow {\\sum\\nolimits_{i = 1}^n {{\\nabla _w}\\left( {{y_i} - {x_i}^Tw} \\right)} ^2} = 0\n",
    "$\n",
    "\n",
    "$\n",
    " \\Leftrightarrow \\sum\\nolimits_{i = 1}^n {{\\nabla _w}\\left( {{y_i}^2 - 2{w^T}{x_i}{y_i} + {w^T}{x_i}{x_i}^Tw} \\right)}  = 0\n",
    "$\n",
    "\n",
    "$\n",
    "\\Leftrightarrow \\sum\\nolimits_{i = 1}^n {\\left( {\\underbrace {{\\nabla _w}\\left( {{y_i}^2} \\right)}_0 - {\\nabla _w}\\left( {2{w^T}{x_i}{y_i}} \\right) + {\\nabla _w}\\left( {{w^T}{x_i}{x_i}^Tw} \\right)} \\right)}  = 0\n",
    "$\n",
    "\n",
    "$\n",
    "\\Leftrightarrow \\sum\\nolimits_{i = 1}^n {\\left( { - 2{x_i}{y_i} + 2{x_i}{x_i}^Tw} \\right)}  = 0\n",
    "$\n",
    " \n",
    "$\n",
    "\\Leftrightarrow \\sum\\nolimits_{i = 1}^n {\\left( { -2{x_i}{y_i} + 2{x_i}{x_i}^Tw} \\right)}  = 0\n",
    "$\n",
    "\n",
    "$\n",
    "\\Leftrightarrow  - 2\\sum\\nolimits_{i = 1}^n {{x_i}{y_i} + 2\\sum\\nolimits_{i = 1}^n {{x_i}{x_i}^Tw} }  = 0\n",
    "$\n",
    "\n",
    "$\n",
    "\\Leftrightarrow  2\\sum\\nolimits_{i = 1}^n {{x_i}{x_i}^Tw}  =  2\\sum\\nolimits_{i = 1}^n {{x_i}{y_i}}\n",
    "$\n",
    "\n",
    "$\n",
    "\\Leftrightarrow w = {\\left( {\\sum\\nolimits_{i = 1}^n {{x_i}{x_i}^T} } \\right)^{ - 1}}\\left( {\\sum\\nolimits_{i = 1}^n {{x_i}{y_i}} } \\right)\n",
    "$"
   ]
  },
  {
   "cell_type": "markdown",
   "metadata": {},
   "source": [
    "Least squares solution (matrix version)\n",
    "\n",
    "$\n",
    "L = {\\sum\\nolimits_{i = 1}^n {\\left( {{y_i} - {x_i}^Tw} \\right)} ^2}\n",
    "$\n",
    "\n",
    "$\n",
    "L = {\\left\\| {{y} - Xw} \\right\\|^2}\n",
    "$\n",
    "because $\\sum\\nolimits_{i = 1}^n {{x_i}^Tw}  = Xw$\n",
    "\n",
    "$\n",
    "L = {\\left( {{y} - Xw} \\right)^T}\\left( {{y} - Xw} \\right)\n",
    "$\n",
    "\n",
    "\n",
    "Find minimum of L\n",
    "\n",
    "$\n",
    "{\\nabla _w}L = {\\nabla _w}\\left( {{{\\left( {y - Xw} \\right)}^T}\\left( {y - Xw} \\right)} \\right)\n",
    "$\n",
    "\n",
    "$\n",
    "\\Leftrightarrow {\\nabla _w}L = {\\nabla _w}\\left( {{y^T}y - yXw - {X^T}{w^T}y + {X^T}{w^T}Xw} \\right)\n",
    "$\n",
    "\n",
    "$\n",
    "\\Leftrightarrow {\\nabla _w}L = {\\nabla _w}\\left( {{y^T}y} \\right) - {\\nabla _w}\\left( {yXw} \\right) - {\\nabla _w}\\left( {{X^T}{w^T}y} \\right) + {\\nabla _w}\\left( {{X^T}{w^T}Xw} \\right)\n",
    "$\n",
    "\n",
    "$\n",
    " \\Leftrightarrow {\\nabla _w}L =  - yX - {X^T}y + 2{X^T}Xw = 0\n",
    "$\n",
    "\n",
    "$\n",
    "\\Leftrightarrow {\\nabla _w}L =  - {X^T}y - {X^T}y + 2{X^T}Xw =  - 2{X^T}y + 2{X^T}Xw = 0\n",
    "$\n",
    "\n",
    "$\n",
    "\\Leftrightarrow 2{X^T}Xw = 2{X^T}y\n",
    "$\n",
    "\n",
    "$\n",
    "\\Rightarrow w =  {\\left( {{X^T}X} \\right)^{ - 1}}{X^T}y\n",
    "$"
   ]
  },
  {
   "cell_type": "markdown",
   "metadata": {},
   "source": [
    "Maximum likelihood\n",
    "$$\n",
    "p\\left( {y|\\mu ,{\\sigma ^2}} \\right) = \\frac{1}{{{{\\left( {2\\pi {\\sigma ^2}} \\right)}^{\\frac{n}{2}}}}}\\exp \\left( { - \\frac{1}{{2{\\sigma ^2}}}{{\\left( {y - \\mu } \\right)}^T}\\left( {y - \\mu } \\right)} \\right)\n",
    "$$\n",
    "\n",
    "$\n",
    "{w_{ML}} = \\arg \\max \\ln p\\left( {y||\\mu  = Xw,{\\sigma ^2}} \\right)\n",
    "$\n",
    "\n",
    "$\n",
    "\\Leftrightarrow {w_{ML}} = \\arg \\max \\ln \\left( {\\frac{1}{{{{\\left( {2\\pi {\\sigma ^2}} \\right)}^{\\frac{n}{2}}}}}\\exp \\left( { - \\frac{1}{{2{\\sigma ^2}}}{{\\left( {y - \\mu } \\right)}^T}\\left( {y - \\mu } \\right)} \\right)} \\right)\n",
    "$\n",
    "\n",
    "$\n",
    "\\Leftrightarrow {w_{ML}} = \\arg \\max \\left( {\\left( {\\ln \\frac{1}{{{{\\left( {2\\pi {\\sigma ^2}} \\right)}^{\\frac{n}{2}}}}}} \\right) + \\left( {\\ln \\exp \\left( { - \\frac{1}{{2{\\sigma ^2}}}{{\\left( {y - \\mu } \\right)}^T}\\left( {y - \\mu } \\right)} \\right)} \\right)} \\right)\n",
    "$\n",
    "\n",
    "$\n",
    "\\Leftrightarrow {w_{ML}} = \\arg \\max \\left( { - \\frac{n}{2}\\ln \\left( {2\\pi {\\sigma ^2}} \\right) - \\frac{1}{{2{\\sigma ^2}}}{{\\left( {y - \\mu } \\right)}^T}\\left( {y - \\mu } \\right)} \\right)\n",
    "$\n",
    "\n",
    "$\n",
    "\\Leftrightarrow {w_{ML}} = \\arg \\max \\left( { - \\frac{n}{2}\\ln \\left( {2\\pi {\\sigma ^2}} \\right) - \\frac{1}{{2{\\sigma ^2}}}{{\\left( {y - Xw} \\right)}^T}\\left( {y - Xw} \\right)} \\right)\n",
    "$\n",
    "\n",
    "$\n",
    "\\Leftrightarrow {w_{ML}} = \\arg \\max \\left( { - \\frac{n}{2}\\ln \\left( {2\\pi {\\sigma ^2}} \\right) - \\frac{1}{{2{\\sigma ^2}}}{{\\left\\| {y - Xw} \\right\\|}^2}} \\right)\n",
    "$\n",
    "\n",
    "$p$ reaches a peak when ${\\frac{1}{{2{\\sigma ^2}}}{{\\left\\| {y - Xw} \\right\\|}^2}}$ is minimun\n",
    "so:\n",
    "$$\n",
    "LS:\\arg \\mathop {\\min }\\limits_w {\\left\\| {y - Xw} \\right\\|^2} \\Leftrightarrow ML:\\arg \\mathop {\\max }\\limits_w \\left( { - \\frac{1}{{2{\\sigma ^2}}}{{\\left\\| {y - Xw} \\right\\|}^2}} \\right)\n",
    "$$"
   ]
  },
  {
   "cell_type": "code",
   "execution_count": 16,
   "metadata": {},
   "outputs": [
    {
     "data": {
      "text/plain": [
       "[<matplotlib.lines.Line2D at 0x7f533c821fa0>]"
      ]
     },
     "execution_count": 16,
     "metadata": {},
     "output_type": "execute_result"
    },
    {
     "data": {
      "image/png": "[encoded data removed]",
      "text/plain": [
       "<Figure size 432x288 with 1 Axes>"
      ]
     },
     "metadata": {
      "needs_background": "light"
     },
     "output_type": "display_data"
    }
   ],
   "source": [
    "import numpy as np\n",
    "import matplotlib.pyplot as plt\n",
    "n = 50\n",
    "a = 3\n",
    "b = 4\n",
    "x = np.linspace(-10, 10, n)\n",
    "j = np.array([[1,i] for i in x ])\n",
    "y = a* x + b + np.random.normal(0,1000,n)\n",
    "j_t = j.transpose()\n",
    "LS = np.matmul(np.matmul(np.linalg.inv(np.matmul(j_t,j)),j_t),y)\n",
    "plt.scatter(x,y)\n",
    "plt.plot(x,a*x+b, color = 'g')\n",
    "plt.plot(x,LS[1]*x+LS[0],linestyle='solid', color= 'r')"
   ]
  },
  {
   "cell_type": "code",
   "execution_count": 20,
   "metadata": {},
   "outputs": [
    {
     "data": {
      "text/plain": [
       "[<matplotlib.lines.Line2D at 0x7f533c62ef40>]"
      ]
     },
     "execution_count": 20,
     "metadata": {},
     "output_type": "execute_result"
    },
    {
     "data": {
      "image/png": "[encoded data removed]",
      "text/plain": [
       "<Figure size 432x288 with 1 Axes>"
      ]
     },
     "metadata": {
      "needs_background": "light"
     },
     "output_type": "display_data"
    }
   ],
   "source": [
    "import numpy as np\n",
    "import matplotlib.pyplot as plt\n",
    "n = 100\n",
    "a = 2\n",
    "b = 4\n",
    "c = 6\n",
    "x = np.linspace(-10, 10, n)\n",
    "j = np.array([[1 , i, i*i] for i in x])\n",
    "y = a*x*x + b*x + c + np.random.normal(0,40,n)\n",
    "j_t = j.transpose()\n",
    "LS = np.matmul( np.matmul(np.linalg.inv(np.matmul(j_t,j)),j_t),y)\n",
    "plt.scatter(x,y)\n",
    "plt.plot(x, a*x*x + b*x + c, color = 'r')\n",
    "plt.plot(x,LS[0]+LS[1]*x+LS[2]*x*x,color = 'black')"
   ]
  }
 ],
 "metadata": {
  "kernelspec": {
   "display_name": "Python 3",
   "language": "python",
   "name": "python3"
  },
  "language_info": {
   "codemirror_mode": {
    "name": "ipython",
    "version": 3
   },
   "file_extension": ".py",
   "mimetype": "text/x-python",
   "name": "python",
   "nbconvert_exporter": "python",
   "pygments_lexer": "ipython3",
   "version": "3.8.2"
  }
 },
 "nbformat": 4,
 "nbformat_minor": 4
}
