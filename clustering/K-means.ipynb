{
 "cells": [
  {
   "cell_type": "markdown",
   "metadata": {},
   "source": [
    "## Model definition:\n",
    "\n",
    " Given: $x_1, ..., x_n$ where each $x \\in R^d$.\n",
    "\n",
    "\n",
    "Goal: Minimize $L = \\sum\\nolimits_{i = 1}^n {{{\\left\\| {{x_i} - {\\mu _{c_i}}} \\right\\|} }^2}. $\n",
    "\n",
    "\n",
    "with $\\mu_k$ being the centroid and $c_i$ being the cluster. $c_i \\in \\{1,..., k\\}$ for $i \\in \\{ 1, ...,n\\}$. "
   ]
  },
  {
   "cell_type": "markdown",
   "metadata": {},
   "source": [
    "## How to fit it:\n",
    "\n",
    "- Randomly initialize $\\mu  = \\left( {{\\mu _1},...,{\\mu _K}} \\right).$\n",
    "\n",
    "- Iterate until $c$ and $\\mu$ stop changing:\n",
    "\n",
    "\n",
    "1. Update each $c_i$: set\n",
    "\n",
    "$${c_i} = \\arg \\mathop {\\min }\\limits_k {\\left\\| {{x_i} - {\\mu _k}} \\right\\|^2}$$\n",
    "  \n",
    "2. Update each ${\\mu}_k$: set\n",
    "  $$\\,\\,\\,{\\mu _{c_i}} = \\frac{1}{{{n_k}}}\\sum\\limits_{i = 1}^n {{x_i}1\\left\\{ {c_i = k} \\right\\}} $$\n",
    "  \n",
    "  with $n_k$ being the number of elements in the cluster $k$.\n"
   ]
  },
  {
   "cell_type": "markdown",
   "metadata": {},
   "source": [
    "## How to use it:\n",
    "\n",
    "To make the prediction, we will calculate the distances between the testing point and the centroids. After that, we will get the label which its centroid is closest to the testing point.\n"
   ]
  },
  {
   "cell_type": "markdown",
   "metadata": {},
   "source": [
    "## K- means for 3 clusters"
   ]
  },
  {
   "cell_type": "code",
   "execution_count": 64,
   "metadata": {},
   "outputs": [],
   "source": [
    "import numpy as np\n",
    "class Kmeans():\n",
    "    def __init__(self, k):\n",
    "        self.k = k\n",
    "    \n",
    "    def fit(self,X):\n",
    "        self.X = X\n",
    "        X = self.X\n",
    "        self.n_points = X.shape[0] \n",
    "        random_idx = np.random.choice(self.n_points, self.k, replace = False)\n",
    "        self.centroids = X[random_idx]\n",
    "        self.clusters = {i:[] for i in range(self.k)}\n",
    "        \n",
    "        while True:\n",
    "            #update the cluster\n",
    "            clusters = {i:[] for i in range(self.k)}\n",
    "            for idx, point in enumerate(X):\n",
    "                distances = np.sum((point - self.centroids)**2, axis = 1)\n",
    "                centroid_idx = np.argmin(distances)\n",
    "                clusters[centroid_idx].append(idx)  #cluster = {cluster__idx = points_index}\n",
    "            self.clusters = clusters\n",
    "            centroids_old = self.centroids.copy()\n",
    "           \n",
    "            #update the centroids\n",
    "            for cluster_idx in self.clusters:\n",
    "                cluster_mean = np.mean(X[self.clusters[cluster_idx]], axis = 0)\n",
    "                self.centroids[cluster_idx] = cluster_mean\n",
    "\n",
    "            check_distances = [np.sum((centroids_old[i] - self.centroids[i])**2) for i in range(self.k)]\n",
    "            if sum(check_distances) == 0:\n",
    "                break\n",
    "            \n",
    "        for i in range(self.k):\n",
    "            plt.scatter(self.centroids[i][0],self.centroids[i][1])\n",
    "            plt.scatter(X[self.clusters[i]][:,0],X[self.clusters[i]][:,1])"
   ]
  },
  {
   "cell_type": "code",
   "execution_count": 75,
   "metadata": {},
   "outputs": [
    {
     "data": {
      "image/png": "[encoded data removed]",
      "text/plain": [
       "<Figure size 432x288 with 1 Axes>"
      ]
     },
     "metadata": {
      "needs_background": "light"
     },
     "output_type": "display_data"
    }
   ],
   "source": [
    "%matplotlib inline\n",
    "import matplotlib.pyplot as plt\n",
    "clustering = Kmeans(3)\n",
    "n = 100\n",
    "j= 10\n",
    "x1, y2 = np.random.multivariate_normal([-10,10], [[j,0],[0,j]], n).T\n",
    "\n",
    "x2, y2 = np.random.multivariate_normal([0,20], [[j,0],[0,j]], n).T\n",
    "x3, y3 = np.random.multivariate_normal([5,10], [[j,0],[0,j]], n).T\n",
    "\"\"\"\n",
    "plt.scatter(x1,y1)\n",
    "plt.scatter(x2,y2)\n",
    "plt.scatter(x3,y3)\n",
    "\"\"\"\n",
    "x = np.append(x1,x2)\n",
    "x = np.append(x,x3)\n",
    "y = np.append(y1,y2)\n",
    "y = np.append(y,y3)\n",
    "X = np.stack((x,y), axis = -1)\n",
    "#plt.scatter(X[:,0],X[:,1])\n",
    "\n",
    "clustering = clustering.fit(X)"
   ]
  },
  {
   "cell_type": "markdown",
   "metadata": {},
   "source": [
    "## Predictions of Digit recognizer "
   ]
  },
  {
   "cell_type": "code",
   "execution_count": 112,
   "metadata": {},
   "outputs": [],
   "source": [
    "import numpy as np\n",
    "class Kmeans():\n",
    "    def __init__(self, k):\n",
    "        self.k = k\n",
    "    \n",
    "    def fit(self,X):\n",
    "        self.X = X\n",
    "        X = self.X\n",
    "        self.y = y\n",
    "        self.n_points = X.shape[0] \n",
    "        random_idx = np.random.choice(self.n_points, self.k, replace = False)\n",
    "        self.centroids = X[random_idx]\n",
    "        self.clusters = {i:[] for i in range(self.k)}\n",
    "        \n",
    "        while True:\n",
    "            #update the cluster\n",
    "            clusters = {i:[] for i in range(self.k)}\n",
    "            for idx, point in enumerate(X):\n",
    "                distances = np.sum((point - self.centroids)**2, axis = 1)\n",
    "                centroid_idx = np.argmin(distances)\n",
    "                clusters[centroid_idx].append(idx)  #cluster = {cluster__idx = points_index}\n",
    "            self.clusters = clusters\n",
    "            centroids_old = self.centroids.copy()\n",
    "           \n",
    "            #update the centroids\n",
    "            for cluster_idx in self.clusters:\n",
    "                cluster_mean = np.mean(X[self.clusters[cluster_idx]], axis = 0)\n",
    "                self.centroids[cluster_idx] = cluster_mean\n",
    "\n",
    "            check_distances = [np.sum((centroids_old[i] - self.centroids[i])**2) for i in range(self.k)]\n",
    "            if sum(check_distances) == 0:\n",
    "                break\n",
    "\n",
    "    def predict(self, x):\n",
    "        distances = np.sum((x - self.centroids)**2, axis = 1)\n",
    "        centroid_idx = np.argmin(distances)\n",
    "        return centroid_idx\n"
   ]
  },
  {
   "cell_type": "code",
   "execution_count": 113,
   "metadata": {
    "scrolled": false
   },
   "outputs": [],
   "source": [
    "import pandas as pd\n",
    "import numpy as np\n",
    "\n",
    "df_train = pd.read_csv(\"../data/digit-recognizer/data/train.csv\")\n",
    "df_test = pd.read_csv(\"../data/digit-recognizer/data/test.csv\")\n",
    "train = df_train.to_numpy()\n",
    "X = train[:,1:]\n",
    "y = train[:,0]\n",
    "clustering = Kmeans(10)\n",
    "clustering.fit(X)\n",
    "\n",
    "f = open(\"../data/digit-recognizer/outputs/submission_kmeans.csv\", \"w\")\n",
    "f.write(\"ImageId,Label\\n\" )\n",
    "test = df_test\n",
    "test = test.to_numpy()\n",
    "for i in range(len(test)):\n",
    "    a = clustering.predict(test[i])\n",
    "    f.write(str(i+1) + \",\" + str(a) +\"\\n\")\n",
    "f.close()"
   ]
  }
 ],
 "metadata": {
  "kernelspec": {
   "display_name": "Python 3",
   "language": "python",
   "name": "python3"
  },
  "language_info": {
   "codemirror_mode": {
    "name": "ipython",
    "version": 3
   },
   "file_extension": ".py",
   "mimetype": "text/x-python",
   "name": "python",
   "nbconvert_exporter": "python",
   "pygments_lexer": "ipython3",
   "version": "3.7.6"
  }
 },
 "nbformat": 4,
 "nbformat_minor": 4
}
