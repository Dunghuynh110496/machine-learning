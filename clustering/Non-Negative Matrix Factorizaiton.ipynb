{
 "cells": [
  {
   "cell_type": "markdown",
   "metadata": {},
   "source": [
    "## Model definition:\n",
    "\n",
    "NMF minimizes one of the following two objective functions over $W$ and $H$.\n",
    "\n",
    "1. Squared error objective:\n",
    "$${\\left\\| {X - WH} \\right\\|^2} = \\sum\\limits_i {\\sum\\limits_j {{{\\left( {{X_{ij}} - {{\\left( {WH} \\right)}_{ij}}} \\right)}^2}} } $$\n",
    "2. Divergence objective:\n",
    "$$D\\left( {X||WH} \\right) =  - \\sum\\limits_i {\\sum\\limits_j {\\left[ {{X_{ij}}\\ln {{\\left( {WH} \\right)}_{ij}} - {{\\left( {WH} \\right)}_{ij}}} \\right]} } $$\n",
    "\n",
    "- Both have the constraint that $W$ and $H$ contain nonnegative values.\n",
    "\n",
    "- NMF uses a fast, simple algorithm for optimizing these two objectives."
   ]
  },
  {
   "cell_type": "markdown",
   "metadata": {},
   "source": [
    "## How to fit it:\n",
    "\n",
    "- Randomly initialize $H$ and $W$ with nonnegative values.\n",
    "\n",
    "- Iterate the following, first for all values in $H$, then all in $W$:\n",
    "\n",
    "$$\\eqalign{\n",
    "  & {H_{kj}} \\leftarrow {H_{kj}}\\frac{{{{\\left( {{W^T}X} \\right)}_{kj}}}}{{{{\\left( {{W^T}WH} \\right)}_{kj}}}},  \\cr \n",
    "  & {W_{ik}} \\leftarrow {W_{ik}}\\frac{{{{\\left( {X{H^T}} \\right)}_{ik}}}}{{{{\\left( {WW{H^T}} \\right)}_{ik}}}}, \\cr} $$\n",
    "\n",
    "until the change in ${\\left\\| {X - WH} \\right\\|^2}$ is \"small\"."
   ]
  },
  {
   "cell_type": "markdown",
   "metadata": {},
   "source": [
    "## How to use it:\n",
    "Predict that user $i$ rate onject $j$ as $u_{i}^{T} v_j$ rounded to closest rating option."
   ]
  },
  {
   "cell_type": "code",
   "execution_count": 1,
   "metadata": {},
   "outputs": [],
   "source": [
    "import numpy as np\n",
    "from math import sqrt\n",
    "\n",
    "class MF():\n",
    "    def __init__(self, k, max_iter, condition):\n",
    "        self.k = k\n",
    "        self.max_iter = max_iter\n",
    "        self.condition = condition\n",
    "\n",
    "    def fit(self, X):\n",
    "        self.X = X\n",
    "        self.W = np.random.rand(self.X.shape[0], self.k)\n",
    "        self.H = np.random.rand(self.k, self.X.shape[1])\n",
    "        iter = 0\n",
    "        while iter <= self.max_iter:\n",
    "            iter += 1\n",
    "            H_up = np.matmul(self.W.transpose(),self.X)\n",
    "            H_down = np.matmul(np.matmul(self.W.transpose(),self.W),self.H)\n",
    "            self.H = self.H*(np.divide(H_up,H_down))\n",
    "            self.H = np.nan_to_num(self.H)\n",
    "            W_up = np.matmul(self.X, self.H.transpose())\n",
    "            W_down = np.matmul(np.matmul(self.W,self.H),self.H.transpose())\n",
    "            self.W = self.W*(np.divide(W_up,W_down))\n",
    "            self.W = np.nan_to_num(self.W)\n",
    "            if sqrt(np.sum((self.X - np.matmul(self.W, self.H))**2) == self.condition):\n",
    "                break\n",
    "    def predict(self, x)"
   ]
  }
 ],
 "metadata": {
  "kernelspec": {
   "display_name": "Python 3",
   "language": "python",
   "name": "python3"
  },
  "language_info": {
   "codemirror_mode": {
    "name": "ipython",
    "version": 3
   },
   "file_extension": ".py",
   "mimetype": "text/x-python",
   "name": "python",
   "nbconvert_exporter": "python",
   "pygments_lexer": "ipython3",
   "version": "3.7.6"
  }
 },
 "nbformat": 4,
 "nbformat_minor": 4
}
