{
 "cells": [
  {
   "cell_type": "markdown",
   "metadata": {},
   "source": [
    "## Model definition:\n",
    "\n",
    "For $N_1$ users and $N_2$ objects, generate:\n",
    "\n",
    "- User Locations:\n",
    "\n",
    "$$\\mu _{i} \\sim N\\left ( 0,\\lambda ^{-1}I \\right ),i = 1,...,N_1$$\n",
    "\n",
    "- Object locations:\n",
    "\n",
    "$$v _{i} \\sim N\\left ( 0,\\lambda ^{-1}I \\right ),i = 1,...,N_2$$\n",
    "\n",
    "Given these locations the distribution on the data is:\n",
    "\n",
    "$$M_{ij} \\sim N \\left ( \\mu _{i}^{T} v_{j}, \\sigma ^{2}\\right ), \\, for \\, each \\, \\left ( i,j \\right ) \\in \\Omega $$\n",
    "\n",
    "With $\\Omega$ contain the pairs $(i,j)$ that are observed. In other words,\n",
    "\n",
    "$$\\Omega = \\left \\{ (i,j): M_{ij} \\, is \\, measured  \\right \\} $$\n",
    "\n",
    "$\\Omega_{u_{i}}$ is the index set of objects rated by user $i$.\n"
   ]
  },
  {
   "cell_type": "markdown",
   "metadata": {},
   "source": [
    "## How to fit it:\n",
    "\n",
    "### Input:\n",
    "An incomplete ratings matrix $M$, as indexed by the set $\\Omega$, Rank $d$.\n",
    "\n",
    "### Output:\n",
    "$N_1$ user locations, $u_i \\in R^d$, and $N_2$ object locations, $v_j \\in R^d$.\n",
    "\n",
    "### Initialize: \n",
    "Each $v_j$. For example, generate $v_j \\sim N \\left ( 0,  \\lambda^{-1}I \\right ).$\n",
    "\n",
    "For each iteration do:\n",
    "\n",
    "\n",
    "- For $i = 1, ..., N_1$ update user location: $$u _i = \\left ( \\lambda \\sigma ^{2}I + \\sum_{j \\in \\Omega _{u_{i}}} v_j v_{j}^{T} \\right )^{-1} \\left ( \\sum_{j \\in \\Omega _{u_{i}}} M_{ij} v_j \\right )$$\n",
    "- For $j = 1, ..., N_2$ update object location:\n",
    "\n",
    "    1. Matrix factorization and ridge regression:\n",
    "$$v_j = \\left ( \\lambda \\sigma ^{2}I + \\sum_{i \\in \\Omega _{v_{j}}} u_i u_{i}^{T} \\right )^{-1} \\left ( \\sum_{i \\in \\Omega _{v_{j}}} M_{ij} u_i \\right )$$\n",
    "\n",
    "    2. Matrix factorization and least squares:\n",
    "\n",
    "$$v_j = \\left (\\sum_{i \\in \\Omega _{v_{j}}} u_i u_{i}^{T} \\right )^{-1} \\left ( \\sum_{i \\in \\Omega _{v_{j}}} M_{ij} u_i \\right )$$"
   ]
  },
  {
   "cell_type": "markdown",
   "metadata": {},
   "source": [
    "## How to predict it:\n",
    "\n",
    "Predict that user $i$ rate onject $j$ as $u_{i}^{T} v_j$ rounded to closest rating option."
   ]
  }
 ],
 "metadata": {
  "kernelspec": {
   "display_name": "Python 3",
   "language": "python",
   "name": "python3"
  },
  "language_info": {
   "codemirror_mode": {
    "name": "ipython",
    "version": 3
   },
   "file_extension": ".py",
   "mimetype": "text/x-python",
   "name": "python",
   "nbconvert_exporter": "python",
   "pygments_lexer": "ipython3",
   "version": "3.7.6"
  }
 },
 "nbformat": 4,
 "nbformat_minor": 4
}
